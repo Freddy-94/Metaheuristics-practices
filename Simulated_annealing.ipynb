{
  "nbformat": 4,
  "nbformat_minor": 0,
  "metadata": {
    "colab": {
      "provenance": [],
      "authorship_tag": "ABX9TyNQhSYGB8g9o8rTasApJM63",
      "include_colab_link": true
    },
    "kernelspec": {
      "name": "python3",
      "display_name": "Python 3"
    },
    "language_info": {
      "name": "python"
    }
  },
  "cells": [
    {
      "cell_type": "markdown",
      "metadata": {
        "id": "view-in-github",
        "colab_type": "text"
      },
      "source": [
        "<a href=\"https://colab.research.google.com/github/Freddy-94/Metaheuristics-practices/blob/main/Simulated_annealing.ipynb\" target=\"_parent\"><img src=\"https://colab.research.google.com/assets/colab-badge.svg\" alt=\"Open In Colab\"/></a>"
      ]
    },
    {
      "cell_type": "markdown",
      "source": [],
      "metadata": {
        "id": "2ubllH15Cu8f"
      }
    },
    {
      "cell_type": "markdown",
      "source": [
        "## Alfredo Bernal Luna\n",
        "### Practice No. 1 \"Simulated Annealing Algorithm\".\n",
        "\n"
      ],
      "metadata": {
        "id": "C8Otz6vJCxDm"
      }
    },
    {
      "cell_type": "markdown",
      "source": [
        "# Definition of objective function:\n",
        "\n",
        "Let $f : [0, \\pi] ^n \\to \\mathbb{R}$ given by:\n",
        "\n",
        "\\begin{align}\n",
        "        f(\\mathbf{x}) = -\\sum_{i=1}^n sin(x_{i})sin^{20}(i(\\frac{x_{i}^{2}}{\\pi})) \n",
        "\\end{align}"
      ],
      "metadata": {
        "id": "spgOQ3Pu9UZw"
      }
    },
    {
      "cell_type": "code",
      "source": [
        "import numpy as np\n",
        "import math \n",
        "\n",
        "def obj_fun(n, x):\n",
        "  sum = 0\n",
        "  for i in range(1, n+1):\n",
        "    sum += (math.sin(x[i-1])) * (math.sin(i*(x[i-1]**2/math.pi))**20)\n",
        "  fun_value = -sum\n",
        "  return fun_value"
      ],
      "metadata": {
        "id": "aCg5JDgK9djq"
      },
      "execution_count": null,
      "outputs": []
    },
    {
      "cell_type": "markdown",
      "source": [
        "# Test of the objective function:"
      ],
      "metadata": {
        "id": "gqF3Nm13L3SK"
      }
    },
    {
      "cell_type": "code",
      "source": [
        "obj_fun(2, (0.26, 2.61))"
      ],
      "metadata": {
        "colab": {
          "base_uri": "https://localhost:8080/"
        },
        "id": "bi_xPxDSFZTR",
        "outputId": "9360417b-f9b3-4572-9990-5565af970347"
      },
      "execution_count": null,
      "outputs": [
        {
          "output_type": "execute_result",
          "data": {
            "text/plain": [
              "-0.11940677899096029"
            ]
          },
          "metadata": {},
          "execution_count": 23
        }
      ]
    },
    {
      "cell_type": "markdown",
      "source": [
        "# \"Cooling\" functions for the algorithm:"
      ],
      "metadata": {
        "id": "PCyM3mwyOMsu"
      }
    },
    {
      "cell_type": "markdown",
      "source": [
        "**1.   Linear cooling:**\n",
        "\n",
        "$ T_{k} = T_{k-1} - \\beta $"
      ],
      "metadata": {
        "id": "0V9DwQKbOizU"
      }
    },
    {
      "cell_type": "code",
      "source": [
        "def linear(iteration, last_tmp, beta):\n",
        "  for iter in range(iteration):\n",
        "    last_tmp = last_tmp - beta\n",
        "  new_tmp = last_tmp\n",
        "  return new_tmp\n"
      ],
      "metadata": {
        "id": "UhzN6J_pGyOx"
      },
      "execution_count": 24,
      "outputs": []
    },
    {
      "cell_type": "markdown",
      "source": [
        "**2.   Geometric cooling:**\n",
        "\n",
        "$ T_{k} = \\alpha * T_{k-1} $"
      ],
      "metadata": {
        "id": "iZEIlBWLQSbN"
      }
    },
    {
      "cell_type": "code",
      "source": [
        "def geometric(iteration, last_tmp, alpha):\n",
        "  for iter in range(iteration):\n",
        "    last_tmp = alpha * last_tmp\n",
        "  new_tmp = last_tmp\n",
        "  return new_tmp"
      ],
      "metadata": {
        "id": "hk4mEG1wQMdX"
      },
      "execution_count": 25,
      "outputs": []
    },
    {
      "cell_type": "markdown",
      "source": [
        "**3.   Logarithmic cooling:**\n",
        "\n",
        "$ T_{k} = \\frac{ln(k)}{ln(k+1)} * T_{k-1} $"
      ],
      "metadata": {
        "id": "ik-h6CtpR_Cu"
      }
    },
    {
      "cell_type": "code",
      "source": [
        "def log_cool(iteration, last_tmp):\n",
        "  for iter in range(iteration):\n",
        "    last_tmp = (math.log(iter)/math.log(iter+1))*last_tmp\n",
        "  new_tmp = last_tmp\n",
        "  return new_tmp"
      ],
      "metadata": {
        "id": "4t9HwBkyQvh9"
      },
      "execution_count": 27,
      "outputs": []
    },
    {
      "cell_type": "markdown",
      "source": [
        "**4.   Hybrid cooling:**\n",
        "\n",
        "$ T_{k} = \\begin{cases} \n",
        "      (\\frac{k}{k+1}) * T_{k-1} & k \\leq β \\\\\n",
        "      \\alpha * T_{k-1} & k > β \n",
        "   \\end{cases}\n",
        "$"
      ],
      "metadata": {
        "id": "9L9UvcfcTreC"
      }
    },
    {
      "cell_type": "code",
      "source": [
        "def hybrid(iteration, alpha, beta, last_tmp):\n",
        "  for iter in range(iteration):\n",
        "    if iteration <= beta:\n",
        "      last_tmp = (iteration/iteration+1)*last_tmp\n",
        "    else:\n",
        "      last_tmp = alpha * last_tmp\n",
        "  new_tmp = last_tmp\n",
        "  return new_tmp"
      ],
      "metadata": {
        "id": "-CoaBjlvTYSO"
      },
      "execution_count": 28,
      "outputs": []
    },
    {
      "cell_type": "markdown",
      "source": [
        "**5.   Exponential cooling:**\n",
        "\n",
        "$ T_{k} = \\frac{T_{k-1}}{1 + \\beta T_{k-1}} $"
      ],
      "metadata": {
        "id": "GukWRQgpUvkN"
      }
    },
    {
      "cell_type": "code",
      "source": [
        "def exp(iteration, beta, last_tmp):\n",
        "  for iter in range(iteration):\n",
        "    last_tmp = last_tmp/(1+(beta*last_tmp))\n",
        "  new_tmp = last_tmp\n",
        "  return new_tmp"
      ],
      "metadata": {
        "id": "j_9FV_zeVWVM"
      },
      "execution_count": 29,
      "outputs": []
    },
    {
      "cell_type": "code",
      "source": [],
      "metadata": {
        "id": "3KMSy25qWqMK"
      },
      "execution_count": null,
      "outputs": []
    }
  ]
}