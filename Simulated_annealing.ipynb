{
  "nbformat": 4,
  "nbformat_minor": 0,
  "metadata": {
    "colab": {
      "provenance": [],
      "authorship_tag": "ABX9TyN8RnQyaByG7u9DZ427f4QG",
      "include_colab_link": true
    },
    "kernelspec": {
      "name": "python3",
      "display_name": "Python 3"
    },
    "language_info": {
      "name": "python"
    }
  },
  "cells": [
    {
      "cell_type": "markdown",
      "metadata": {
        "id": "view-in-github",
        "colab_type": "text"
      },
      "source": [
        "<a href=\"https://colab.research.google.com/github/Freddy-94/Metaheuristics-practices/blob/main/Copia_de_Simulated_annealing.ipynb\" target=\"_parent\"><img src=\"https://colab.research.google.com/assets/colab-badge.svg\" alt=\"Open In Colab\"/></a>"
      ]
    },
    {
      "cell_type": "markdown",
      "source": [],
      "metadata": {
        "id": "2ubllH15Cu8f"
      }
    },
    {
      "cell_type": "markdown",
      "source": [
        "## Alfredo Bernal Luna\n",
        "### Practice No. 1 \"Simulated Annealing Algorithm\"."
      ],
      "metadata": {
        "id": "C8Otz6vJCxDm"
      }
    },
    {
      "cell_type": "markdown",
      "source": [
        "# Definition of cost function:\n",
        "\n",
        "Let $f : [0, \\pi] ^n \\to \\mathbb{R}$ given by:\n",
        "\n",
        "\\begin{align}\n",
        "        f(\\mathbf{x}) = -\\sum_{i=1}^n sin(x_{i})sin^{20}(i(\\frac{x_{i}^{2}}{\\pi})) \n",
        "\\end{align}"
      ],
      "metadata": {
        "id": "spgOQ3Pu9UZw"
      }
    },
    {
      "cell_type": "code",
      "source": [
        "import numpy as np\n",
        "import math \n",
        "\n",
        "def cost_function(n, x):\n",
        "  sum = 0\n",
        "  for i in range(1, n+1):\n",
        "    sum += (math.sin(x[i-1])) * (math.sin(i*(x[i-1]**2/math.pi))**20)\n",
        "  fun_value = -sum\n",
        "  return fun_value"
      ],
      "metadata": {
        "id": "aCg5JDgK9djq"
      },
      "execution_count": 1,
      "outputs": []
    },
    {
      "cell_type": "markdown",
      "source": [
        "# Test of the cost function:"
      ],
      "metadata": {
        "id": "gqF3Nm13L3SK"
      }
    },
    {
      "cell_type": "markdown",
      "source": [
        "**1.   Two real variables:**"
      ],
      "metadata": {
        "id": "mtaeP7NXSkuM"
      }
    },
    {
      "cell_type": "code",
      "source": [
        "cost_function(2, (2.20, 1.57))"
      ],
      "metadata": {
        "colab": {
          "base_uri": "https://localhost:8080/"
        },
        "id": "bi_xPxDSFZTR",
        "outputId": "a7869ee1-52ce-4b61-d78b-3237fa38b980"
      },
      "execution_count": 2,
      "outputs": [
        {
          "output_type": "execute_result",
          "data": {
            "text/plain": [
              "-1.801140718473825"
            ]
          },
          "metadata": {},
          "execution_count": 2
        }
      ]
    },
    {
      "cell_type": "markdown",
      "source": [
        "**2.   Five real variables:**"
      ],
      "metadata": {
        "id": "5l7QjuGSSuvK"
      }
    },
    {
      "cell_type": "code",
      "source": [
        "cost_function(5, (2.15, 3.021, 1.658, 0.894, 2.996))"
      ],
      "metadata": {
        "colab": {
          "base_uri": "https://localhost:8080/"
        },
        "id": "_N4wVrLWS0I8",
        "outputId": "b5c0dc8c-0eca-49fb-d64f-81827414acbc"
      },
      "execution_count": 3,
      "outputs": [
        {
          "output_type": "execute_result",
          "data": {
            "text/plain": [
              "-0.9050966125015453"
            ]
          },
          "metadata": {},
          "execution_count": 3
        }
      ]
    },
    {
      "cell_type": "markdown",
      "source": [
        "**3.   Ten real variables:**"
      ],
      "metadata": {
        "id": "pW30jAjqTU00"
      }
    },
    {
      "cell_type": "code",
      "source": [
        "cost_function(10, (3.1315, 2.6548, 1.265, 0.264, 0.00156, 2.165, 3.125, 2.568, 1.698, 1.145))"
      ],
      "metadata": {
        "colab": {
          "base_uri": "https://localhost:8080/"
        },
        "id": "5shNsH0zTanx",
        "outputId": "68a05f50-bb79-472e-857e-4dec852a42c0"
      },
      "execution_count": 4,
      "outputs": [
        {
          "output_type": "execute_result",
          "data": {
            "text/plain": [
              "-1.487883595148603"
            ]
          },
          "metadata": {},
          "execution_count": 4
        }
      ]
    },
    {
      "cell_type": "markdown",
      "source": [
        "# \"Cooling\" functions for the algorithm (individual implementation):"
      ],
      "metadata": {
        "id": "PCyM3mwyOMsu"
      }
    },
    {
      "cell_type": "markdown",
      "source": [
        "**1.   Linear cooling:**\n",
        "\n",
        "$ T_{k} = T_{k-1} - \\beta $"
      ],
      "metadata": {
        "id": "0V9DwQKbOizU"
      }
    },
    {
      "cell_type": "code",
      "source": [
        "def linear_cooling(last_tmp, beta):\n",
        "    new_tmp = last_tmp - beta\n",
        "    return new_tmp\n"
      ],
      "metadata": {
        "id": "UhzN6J_pGyOx"
      },
      "execution_count": 5,
      "outputs": []
    },
    {
      "cell_type": "markdown",
      "source": [
        "**2.   Geometric cooling:**\n",
        "\n",
        "$ T_{k} = \\alpha * T_{k-1} $"
      ],
      "metadata": {
        "id": "iZEIlBWLQSbN"
      }
    },
    {
      "cell_type": "code",
      "source": [
        "def geometric_cooling(last_tmp, alpha):\n",
        "    new_tmp = alpha * last_tmp\n",
        "    return new_tmp"
      ],
      "metadata": {
        "id": "hk4mEG1wQMdX"
      },
      "execution_count": 6,
      "outputs": []
    },
    {
      "cell_type": "markdown",
      "source": [
        "**3.   Logarithmic cooling:**\n",
        "\n",
        "$ T_{k} = \\frac{ln(k)}{ln(k+1)} * T_{k-1} $"
      ],
      "metadata": {
        "id": "ik-h6CtpR_Cu"
      }
    },
    {
      "cell_type": "code",
      "source": [
        "def log_cool(iter, last_tmp):\n",
        "    new_tmp = (math.log(iter)/math.log(iter+1))*last_tmp\n",
        "    return new_tmp"
      ],
      "metadata": {
        "id": "4t9HwBkyQvh9"
      },
      "execution_count": 7,
      "outputs": []
    },
    {
      "cell_type": "markdown",
      "source": [
        "**4.   Hybrid cooling:**\n",
        "\n",
        "$ T_{k} = \\begin{cases} \n",
        "      (\\frac{k}{k+1}) * T_{k-1} & k \\leq β \\\\\n",
        "      \\alpha * T_{k-1} & k > β \n",
        "   \\end{cases}\n",
        "$"
      ],
      "metadata": {
        "id": "9L9UvcfcTreC"
      }
    },
    {
      "cell_type": "code",
      "source": [
        "def hybrid_cooling(iteration, alpha, beta, last_tmp):\n",
        "    if iteration <= beta:\n",
        "        new_tmp = (iteration/iteration+1)*last_tmp\n",
        "    else:\n",
        "        new_tmp = alpha * last_tmp\n",
        "    return new_tmp"
      ],
      "metadata": {
        "id": "-CoaBjlvTYSO"
      },
      "execution_count": 8,
      "outputs": []
    },
    {
      "cell_type": "markdown",
      "source": [
        "**5.   Exponential cooling:**\n",
        "\n",
        "$ T_{k} = \\frac{T_{k-1}}{1 + \\beta T_{k-1}} $"
      ],
      "metadata": {
        "id": "GukWRQgpUvkN"
      }
    },
    {
      "cell_type": "code",
      "source": [
        "def exp_cooling(beta, last_tmp):\n",
        "    new_tmp = last_tmp/(1+(beta*last_tmp))\n",
        "    return new_tmp"
      ],
      "metadata": {
        "id": "j_9FV_zeVWVM"
      },
      "execution_count": 9,
      "outputs": []
    },
    {
      "cell_type": "markdown",
      "source": [
        "# Simulated annealing algorithm implementation\n",
        "\n",
        "![1 t7PRW6eWxi9-qGqexHhe1Q.webp](data:image/webp;base64,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)"
      ],
      "metadata": {
        "id": "kPF0gDf8Kqws"
      }
    },
    {
      "cell_type": "code",
      "source": [
        "import numpy.random as rn\n",
        "import matplotlib.pyplot as plt  # to plot\n",
        "import matplotlib as mpl\n",
        "from scipy import optimize       # to compare\n",
        "import seaborn as sns\n",
        "\n",
        "\"\"\"\n",
        "Start of implementation of algorithm.\n",
        "In our implementation, we must have a domain of the form: [a, b] x ... x [a, b], \n",
        "so that our algorithm works. \n",
        "\"\"\"\n",
        "\n",
        "def random_start(n, interval):\n",
        "    \"\"\" Generation of random point in the interval.\n",
        "        limInf & limSup are the delimiting values that each variable can take;\n",
        "        i.e., if the function has two real values, then, the domain of the \n",
        "        function will be [0, \\pi] x [0, \\pi]. Analogously, if the function has three\n",
        "        real values, then, the domain of the function will be [0, \\pi] x [0, \\pi] x [0, \\pi].\n",
        "        This happen in general if n is the number of real variables that the function can\n",
        "        take.\"\"\"\n",
        "    limInf, limSup = interval \n",
        "    rand_start = limInf + (limSup - limInf) * rn.random_sample((n,))\n",
        "    return rand_start\n",
        "\n",
        "def clip(x, interval):\n",
        "    \"\"\"Force each coordinate of the input vector, to be in its corresponding interval; i.e., \n",
        "        in this function the parameter 'x' is a scalar\"\"\"\n",
        "    limInf, limSup = interval\n",
        "    return max(min(x, limSup), limInf)\n",
        "\n",
        "def random_neighbour(x, interval, fraction):\n",
        "    \"\"\"Move a little bit x, from the other coordinates.\"\"\"\n",
        "    rndm_neighbor_sol = []\n",
        "    amplitude = (max(interval) - min(interval)) * fraction / 10.0\n",
        "    for i in range(len(x)):  \n",
        "        delta = (-amplitude/2.) + amplitude * rn.random() \n",
        "        rndm_neighbor_sol.append(clip(x[i] + delta, interval)) \n",
        "    return rndm_neighbor_sol\n",
        "\n",
        "def acceptance_probability(cost, new_cost, temperature):\n",
        "    if new_cost < cost:\n",
        "        # print(\"    - Acceptance probabilty = 1 as new_cost = {} < cost = {}...\".format(new_cost, cost))\n",
        "        return 1\n",
        "    else:\n",
        "        p = np.exp(- (new_cost - cost) / temperature)\n",
        "        # print(\"    - Acceptance probabilty = {:.3g}...\".format(p))\n",
        "        return p\n",
        "\n",
        "def annealing(n,\n",
        "              interval,\n",
        "              random_start,\n",
        "              cost_function,\n",
        "              random_neighbour,\n",
        "              acceptance_probability,\n",
        "              cooling_function,\n",
        "              maxsteps=1000,\n",
        "              debug=True):\n",
        "    \"\"\" Optimize the black-box function 'cost_function' with the simulated annealing algorithm.\"\"\"\n",
        "    state = random_start(n, interval) # If n=2, then, state is a random number in the set [0, \\pi] x [0, \\pi]\n",
        "    cost = cost_function(n, state)\n",
        "    states, costs = [state], [cost]\n",
        "    for step in range(maxsteps):\n",
        "        fraction = step / float(maxsteps)\n",
        "        T = cooling_function(fraction)\n",
        "        new_state = random_neighbour(state, fraction)\n",
        "        new_cost = cost_function(new_state)\n",
        "        if debug: print(\"Step #{:>2}/{:>2} : T = {:>4.3g}, state = {:>4.3g}, cost = {:>4.3g}, new_state = {:>4.3g}, new_cost = {:>4.3g} ...\".format(step, maxsteps, T, state, cost, new_state, new_cost))\n",
        "        if acceptance_probability(cost, new_cost, T) > rn.random():\n",
        "            state, cost = new_state, new_cost\n",
        "            states.append(state)\n",
        "            costs.append(cost)\n",
        "            # print(\"  ==> Accept it!\")\n",
        "        # else:\n",
        "        #    print(\"  ==> Reject it...\")\n",
        "    return state, cost_function(state), states, costs"
      ],
      "metadata": {
        "id": "3KMSy25qWqMK"
      },
      "execution_count": 11,
      "outputs": []
    },
    {
      "cell_type": "code",
      "source": [],
      "metadata": {
        "id": "RDsZTtgaYGZu"
      },
      "execution_count": null,
      "outputs": []
    }
  ]
}
