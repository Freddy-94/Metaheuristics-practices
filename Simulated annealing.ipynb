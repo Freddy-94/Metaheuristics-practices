{
  "nbformat": 4,
  "nbformat_minor": 0,
  "metadata": {
    "colab": {
      "provenance": [],
      "authorship_tag": "ABX9TyO/FImGERVrzeRSG5UWvTUH",
      "include_colab_link": true
    },
    "kernelspec": {
      "name": "python3",
      "display_name": "Python 3"
    },
    "language_info": {
      "name": "python"
    }
  },
  "cells": [
    {
      "cell_type": "markdown",
      "metadata": {
        "id": "view-in-github",
        "colab_type": "text"
      },
      "source": [
        "<a href=\"https://colab.research.google.com/github/Freddy-94/Metaheuristics-practices/blob/main/Simulated%20annealing.ipynb\" target=\"_parent\"><img src=\"https://colab.research.google.com/assets/colab-badge.svg\" alt=\"Open In Colab\"/></a>"
      ]
    },
    {
      "cell_type": "markdown",
      "source": [],
      "metadata": {
        "id": "2ubllH15Cu8f"
      }
    },
    {
      "cell_type": "markdown",
      "source": [
        "## Alfredo Bernal Luna\n",
        "### Practice No. 1 \"Simulated Annealing Algorithm\".\n",
        "\n"
      ],
      "metadata": {
        "id": "C8Otz6vJCxDm"
      }
    },
    {
      "cell_type": "markdown",
      "source": [
        "# Definition of objective function:\n",
        "\n",
        "Let $f : [0, \\pi] ^n \\to \\mathbb{R}$ given by:\n",
        "\n",
        "\\begin{align}\n",
        "        f(\\mathbf{x}) = -\\sum_{i=1}^n sin(x_{i})sin^{20}(i(\\frac{x_{i}^{2}}{\\pi})) \n",
        "\\end{align}"
      ],
      "metadata": {
        "id": "spgOQ3Pu9UZw"
      }
    },
    {
      "cell_type": "code",
      "source": [
        "import numpy as np\n",
        "import math \n",
        "\n",
        "def obj_fun(n, x):\n",
        "  sum = 0\n",
        "  for i in range(1, n+1):\n",
        "    sum += (math.sin(x[i-1])) * (math.sin(i*(x[i-1]**2/math.pi))**20)\n",
        "  fun_value = -sum\n",
        "  return fun_value"
      ],
      "metadata": {
        "id": "aCg5JDgK9djq"
      },
      "execution_count": 21,
      "outputs": []
    },
    {
      "cell_type": "markdown",
      "source": [
        "# Test of the objective function:"
      ],
      "metadata": {
        "id": "gqF3Nm13L3SK"
      }
    },
    {
      "cell_type": "code",
      "source": [
        "obj_fun(2, (0.26, 2.61))"
      ],
      "metadata": {
        "colab": {
          "base_uri": "https://localhost:8080/"
        },
        "id": "bi_xPxDSFZTR",
        "outputId": "9360417b-f9b3-4572-9990-5565af970347"
      },
      "execution_count": 23,
      "outputs": [
        {
          "output_type": "execute_result",
          "data": {
            "text/plain": [
              "-0.11940677899096029"
            ]
          },
          "metadata": {},
          "execution_count": 23
        }
      ]
    },
    {
      "cell_type": "code",
      "source": [],
      "metadata": {
        "id": "UhzN6J_pGyOx"
      },
      "execution_count": null,
      "outputs": []
    }
  ]
}